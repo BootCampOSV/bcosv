{
 "cells": [
  {
   "cell_type": "markdown",
   "metadata": {},
   "source": [
    "## CCAD"
   ]
  },
  {
   "cell_type": "code",
   "execution_count": 1,
   "metadata": {
    "collapsed": false
   },
   "outputs": [],
   "source": [
    "import ccad.model as cm\n",
    "import OCC.Display.SimpleGui as SimpleGui\n",
    "import numpy as np "
   ]
  },
  {
   "cell_type": "code",
   "execution_count": null,
   "metadata": {
    "collapsed": true
   },
   "outputs": [],
   "source": []
  },
  {
   "cell_type": "code",
   "execution_count": 2,
   "metadata": {
    "collapsed": false
   },
   "outputs": [],
   "source": [
    "import ccad.display as cd"
   ]
  },
  {
   "cell_type": "code",
   "execution_count": 3,
   "metadata": {
    "collapsed": false
   },
   "outputs": [],
   "source": [
    "s1=cm.sphere(1.0)\n",
    "#s1.translate(np.array([1,12,3]))\n",
    "b1 = cm.box(1,2,5)\n",
    "s = s1-b1"
   ]
  },
  {
   "cell_type": "code",
   "execution_count": 4,
   "metadata": {
    "collapsed": false
   },
   "outputs": [
    {
     "ename": "NameError",
     "evalue": "name 'lshell' is not defined",
     "output_type": "error",
     "traceback": [
      "\u001b[0;31m---------------------------------------------------------------------------\u001b[0m",
      "\u001b[0;31mNameError\u001b[0m                                 Traceback (most recent call last)",
      "\u001b[0;32m<ipython-input-4-2ba066fe76d9>\u001b[0m in \u001b[0;36m<module>\u001b[0;34m()\u001b[0m\n\u001b[0;32m----> 1\u001b[0;31m \u001b[0mu\u001b[0m \u001b[0;34m=\u001b[0m\u001b[0mcm\u001b[0m\u001b[0;34m.\u001b[0m\u001b[0msolid\u001b[0m\u001b[0;34m(\u001b[0m\u001b[0mlshell\u001b[0m\u001b[0;34m[\u001b[0m\u001b[0;36m0\u001b[0m\u001b[0;34m:\u001b[0m\u001b[0;36m5\u001b[0m\u001b[0;34m]\u001b[0m\u001b[0;34m)\u001b[0m\u001b[0;34m\u001b[0m\u001b[0m\n\u001b[0m",
      "\u001b[0;31mNameError\u001b[0m: name 'lshell' is not defined"
     ]
    }
   ],
   "source": [
    "u =cm.solid(lshell[0:5])"
   ]
  },
  {
   "cell_type": "code",
   "execution_count": 5,
   "metadata": {
    "collapsed": false,
    "scrolled": false
   },
   "outputs": [],
   "source": [
    "def view(model):\n",
    "    display, start_display, add_menu, add_function_to_menu = SimpleGui.init_display()\n",
    "    display.DisplayShape(model.shape, update = True)\n",
    "    start_display()"
   ]
  },
  {
   "cell_type": "code",
   "execution_count": 6,
   "metadata": {
    "collapsed": false
   },
   "outputs": [],
   "source": [
    "t1 = cm.from_step('level1/ASM0001_ASM_1_ASM.stp')\n",
    "pc = np.array(t1.center())\n",
    "t2 = t1.copy()\n",
    "t2.translate(-pc)"
   ]
  },
  {
   "cell_type": "code",
   "execution_count": 7,
   "metadata": {
    "collapsed": false
   },
   "outputs": [],
   "source": [
    "lshell = t1.subshapes('shell')"
   ]
  },
  {
   "cell_type": "code",
   "execution_count": null,
   "metadata": {
    "collapsed": true
   },
   "outputs": [],
   "source": []
  },
  {
   "cell_type": "code",
   "execution_count": 12,
   "metadata": {
    "collapsed": false
   },
   "outputs": [
    {
     "name": "stdout",
     "output_type": "stream",
     "text": [
      "INFO:OCC.Display.backend:backend loaded: qt-pyqt4\n",
      "INFO:OCC.Display.SimpleGui:GUI backend set to: qt-pyqt4\n"
     ]
    }
   ],
   "source": [
    "view(u)"
   ]
  },
  {
   "cell_type": "code",
   "execution_count": null,
   "metadata": {
    "collapsed": false
   },
   "outputs": [
    {
     "name": "stdout",
     "output_type": "stream",
     "text": [
      "INFO:OCC.Display.backend:The qt-pyqt4 backend is already loaded...``load_backend`` can only be called once per session\n",
      "INFO:OCC.Display.SimpleGui:GUI backend set to: qt-pyqt4\n"
     ]
    }
   ],
   "source": [
    "view(lshell[1])"
   ]
  },
  {
   "cell_type": "code",
   "execution_count": 8,
   "metadata": {
    "collapsed": false
   },
   "outputs": [
    {
     "data": {
      "text/plain": [
       "(1.4363968815106035e-12, 3.0049611945297277e-13, 1.4059456098651636e-12)"
      ]
     },
     "execution_count": 8,
     "metadata": {},
     "output_type": "execute_result"
    }
   ],
   "source": [
    "tabby.center()"
   ]
  },
  {
   "cell_type": "code",
   "execution_count": 16,
   "metadata": {
    "collapsed": false
   },
   "outputs": [
    {
     "data": {
      "text/plain": [
       "{'_BRepAlgo': <module 'OCC.BRepAlgo' from '/home/uguen/anaconda2/lib/python2.7/site-packages/OCC/BRepAlgo.pyc'>,\n",
       " '_BRepAlgoAPI': <module 'OCC.BRepAlgoAPI' from '/home/uguen/anaconda2/lib/python2.7/site-packages/OCC/BRepAlgoAPI.pyc'>,\n",
       " '_BRepBuilderAPI': <module 'OCC.BRepBuilderAPI' from '/home/uguen/anaconda2/lib/python2.7/site-packages/OCC/BRepBuilderAPI.pyc'>,\n",
       " '_BRepCheck_Analyzer': OCC.BRepCheck.BRepCheck_Analyzer,\n",
       " '_BRepFeat_Gluer': OCC.BRepFeat.BRepFeat_Gluer,\n",
       " '_BRepFilletAPI': <module 'OCC.BRepFilletAPI' from '/home/uguen/anaconda2/lib/python2.7/site-packages/OCC/BRepFilletAPI.pyc'>,\n",
       " '_BRepOffset': <module 'OCC.BRepOffset' from '/home/uguen/anaconda2/lib/python2.7/site-packages/OCC/BRepOffset.pyc'>,\n",
       " '_BRepOffsetAPI': <module 'OCC.BRepOffsetAPI' from '/home/uguen/anaconda2/lib/python2.7/site-packages/OCC/BRepOffsetAPI.pyc'>,\n",
       " '_BRepPrimAPI': <module 'OCC.BRepPrimAPI' from '/home/uguen/anaconda2/lib/python2.7/site-packages/OCC/BRepPrimAPI.pyc'>,\n",
       " '_BRepTools': <module 'OCC.BRepTools' from '/home/uguen/anaconda2/lib/python2.7/site-packages/OCC/BRepTools.pyc'>,\n",
       " '_BRep_Builder': OCC.BRep.BRep_Builder,\n",
       " '_BRep_Tool': OCC.BRep.BRep_Tool,\n",
       " '_BRep_Tool_Surface': <function OCC.BRep.BRep_Tool_Surface>,\n",
       " '_Bnd_Box': OCC.Bnd.Bnd_Box,\n",
       " '_GCPnts_QuasiUniformDeflection': OCC.GCPnts.GCPnts_QuasiUniformDeflection,\n",
       " '_GC_MakeArcOfCircle': OCC.GC.GC_MakeArcOfCircle,\n",
       " '_GC_MakeArcOfEllipse': OCC.GC.GC_MakeArcOfEllipse,\n",
       " '_GProp_GProps': OCC.GProp.GProp_GProps,\n",
       " '_GeomAPI_PointsToBSpline': OCC.GeomAPI.GeomAPI_PointsToBSpline,\n",
       " '_GeomAbs': <module 'OCC.GeomAbs' from '/home/uguen/anaconda2/lib/python2.7/site-packages/OCC/GeomAbs.pyc'>,\n",
       " '_GeomAdaptor_Curve': OCC.GeomAdaptor.GeomAdaptor_Curve,\n",
       " '_GeomAdaptor_Surface': OCC.GeomAdaptor.GeomAdaptor_Surface,\n",
       " '_Geom_BezierCurve': OCC.Geom.Geom_BezierCurve,\n",
       " '_IFSelect': <module 'OCC.IFSelect' from '/home/uguen/anaconda2/lib/python2.7/site-packages/OCC/IFSelect.pyc'>,\n",
       " '_IGESControl_Controller': OCC.IGESControl.IGESControl_Controller,\n",
       " '_IGESControl_Reader': OCC.IGESControl.IGESControl_Reader,\n",
       " '_IGESControl_Writer': OCC.IGESControl.IGESControl_Writer,\n",
       " '_Interface_Static_SetCVal': <function OCC.Interface.Interface_Static_SetCVal>,\n",
       " '_Interface_Static_SetIVal': <function OCC.Interface.Interface_Static_SetIVal>,\n",
       " '_Interface_Static_SetRVal': <function OCC.Interface.Interface_Static_SetRVal>,\n",
       " '_LocOpe_FindEdges': OCC.LocOpe.LocOpe_FindEdges,\n",
       " '_STEPControl': <module 'OCC.STEPControl' from '/home/uguen/anaconda2/lib/python2.7/site-packages/OCC/STEPControl.pyc'>,\n",
       " '_ShapeFix_Shape': OCC.ShapeFix.ShapeFix_Shape,\n",
       " '_StlAPI_Writer': OCC.StlAPI.StlAPI_Writer,\n",
       " '_TColStd_Array1OfReal': OCC.TColStd.TColStd_Array1OfReal,\n",
       " '_TColgp_Array1OfPnt': OCC.TColgp.TColgp_Array1OfPnt,\n",
       " '_TopAbs': <module 'OCC.TopAbs' from '/home/uguen/anaconda2/lib/python2.7/site-packages/OCC/TopAbs.pyc'>,\n",
       " '_TopExp_Explorer': OCC.TopExp.TopExp_Explorer,\n",
       " '_TopExp_MapShapesAndAncestors': <function OCC.TopExp.topexp_MapShapesAndAncestors>,\n",
       " '_TopOpeBRepTool_FuseEdges': OCC.TopOpeBRepTool.TopOpeBRepTool_FuseEdges,\n",
       " '_TopOpeBRep_FacesIntersector': OCC.TopOpeBRep.TopOpeBRep_FacesIntersector,\n",
       " '_TopTools': <module 'OCC.TopTools' from '/home/uguen/anaconda2/lib/python2.7/site-packages/OCC/TopTools.pyc'>,\n",
       " '_TopoDS': <module 'OCC.TopoDS' from '/home/uguen/anaconda2/lib/python2.7/site-packages/OCC/TopoDS.pyc'>,\n",
       " '_TopoDS_Shape': OCC.TopoDS.TopoDS_Shape,\n",
       " '_TopoDS_compound': <function OCC.TopoDS.topods_Compound>,\n",
       " '_TopoDS_compsolid': <function OCC.TopoDS.topods_CompSolid>,\n",
       " '_TopoDS_edge': <function OCC.TopoDS.topods_Edge>,\n",
       " '_TopoDS_face': <function OCC.TopoDS.topods_Face>,\n",
       " '_TopoDS_shell': <function OCC.TopoDS.topods_Shell>,\n",
       " '_TopoDS_solid': <function OCC.TopoDS.topods_Solid>,\n",
       " '_TopoDS_vertex': <function OCC.TopoDS.topods_Vertex>,\n",
       " '_TopoDS_wire': <function OCC.TopoDS.topods_Wire>,\n",
       " '__builtins__': {'ArithmeticError': ArithmeticError,\n",
       "  'AssertionError': AssertionError,\n",
       "  'AttributeError': AttributeError,\n",
       "  'BaseException': BaseException,\n",
       "  'BufferError': BufferError,\n",
       "  'BytesWarning': BytesWarning,\n",
       "  'DeprecationWarning': DeprecationWarning,\n",
       "  'EOFError': EOFError,\n",
       "  'Ellipsis': Ellipsis,\n",
       "  'EnvironmentError': EnvironmentError,\n",
       "  'Exception': Exception,\n",
       "  'False': False,\n",
       "  'FloatingPointError': FloatingPointError,\n",
       "  'FutureWarning': FutureWarning,\n",
       "  'GeneratorExit': GeneratorExit,\n",
       "  'IOError': IOError,\n",
       "  'ImportError': ImportError,\n",
       "  'ImportWarning': ImportWarning,\n",
       "  'IndentationError': IndentationError,\n",
       "  'IndexError': IndexError,\n",
       "  'KeyError': KeyError,\n",
       "  'KeyboardInterrupt': KeyboardInterrupt,\n",
       "  'LookupError': LookupError,\n",
       "  'MemoryError': MemoryError,\n",
       "  'NameError': NameError,\n",
       "  'None': None,\n",
       "  'NotImplemented': NotImplemented,\n",
       "  'NotImplementedError': NotImplementedError,\n",
       "  'OSError': OSError,\n",
       "  'OverflowError': OverflowError,\n",
       "  'PendingDeprecationWarning': PendingDeprecationWarning,\n",
       "  'ReferenceError': ReferenceError,\n",
       "  'RuntimeError': RuntimeError,\n",
       "  'RuntimeWarning': RuntimeWarning,\n",
       "  'StandardError': StandardError,\n",
       "  'StopIteration': StopIteration,\n",
       "  'SyntaxError': SyntaxError,\n",
       "  'SyntaxWarning': SyntaxWarning,\n",
       "  'SystemError': SystemError,\n",
       "  'SystemExit': SystemExit,\n",
       "  'TabError': TabError,\n",
       "  'True': True,\n",
       "  'TypeError': TypeError,\n",
       "  'UnboundLocalError': UnboundLocalError,\n",
       "  'UnicodeDecodeError': UnicodeDecodeError,\n",
       "  'UnicodeEncodeError': UnicodeEncodeError,\n",
       "  'UnicodeError': UnicodeError,\n",
       "  'UnicodeTranslateError': UnicodeTranslateError,\n",
       "  'UnicodeWarning': UnicodeWarning,\n",
       "  'UserWarning': UserWarning,\n",
       "  'ValueError': ValueError,\n",
       "  'Warning': Warning,\n",
       "  'ZeroDivisionError': ZeroDivisionError,\n",
       "  '__IPYTHON__': True,\n",
       "  '__debug__': True,\n",
       "  '__doc__': \"Built-in functions, exceptions, and other objects.\\n\\nNoteworthy: None is the `nil' object; Ellipsis represents `...' in slices.\",\n",
       "  '__import__': <function __import__>,\n",
       "  '__name__': '__builtin__',\n",
       "  '__package__': None,\n",
       "  'abs': <function abs>,\n",
       "  'all': <function all>,\n",
       "  'any': <function any>,\n",
       "  'apply': <function apply>,\n",
       "  'basestring': basestring,\n",
       "  'bin': <function bin>,\n",
       "  'bool': bool,\n",
       "  'buffer': buffer,\n",
       "  'bytearray': bytearray,\n",
       "  'bytes': str,\n",
       "  'callable': <function callable>,\n",
       "  'chr': <function chr>,\n",
       "  'classmethod': classmethod,\n",
       "  'cmp': <function cmp>,\n",
       "  'coerce': <function coerce>,\n",
       "  'compile': <function compile>,\n",
       "  'complex': complex,\n",
       "  'copyright': Copyright (c) 2001-2016 Python Software Foundation.\n",
       "  All Rights Reserved.\n",
       "  \n",
       "  Copyright (c) 2000 BeOpen.com.\n",
       "  All Rights Reserved.\n",
       "  \n",
       "  Copyright (c) 1995-2001 Corporation for National Research Initiatives.\n",
       "  All Rights Reserved.\n",
       "  \n",
       "  Copyright (c) 1991-1995 Stichting Mathematisch Centrum, Amsterdam.\n",
       "  All Rights Reserved.,\n",
       "  'credits':     Thanks to CWI, CNRI, BeOpen.com, Zope Corporation and a cast of thousands\n",
       "      for supporting Python development.  See www.python.org for more information.,\n",
       "  'delattr': <function delattr>,\n",
       "  'dict': dict,\n",
       "  'dir': <function dir>,\n",
       "  'divmod': <function divmod>,\n",
       "  'dreload': <function IPython.lib.deepreload._dreload>,\n",
       "  'enumerate': enumerate,\n",
       "  'eval': <function eval>,\n",
       "  'execfile': <function execfile>,\n",
       "  'file': file,\n",
       "  'filter': <function filter>,\n",
       "  'float': float,\n",
       "  'format': <function format>,\n",
       "  'frozenset': frozenset,\n",
       "  'get_ipython': <bound method ZMQInteractiveShell.get_ipython of <ipykernel.zmqshell.ZMQInteractiveShell object at 0x7f91c97cb750>>,\n",
       "  'getattr': <function getattr>,\n",
       "  'globals': <function globals>,\n",
       "  'hasattr': <function hasattr>,\n",
       "  'hash': <function hash>,\n",
       "  'help': Type help() for interactive help, or help(object) for help about object.,\n",
       "  'hex': <function hex>,\n",
       "  'id': <function id>,\n",
       "  'input': <function ipykernel.ipkernel.<lambda>>,\n",
       "  'int': int,\n",
       "  'intern': <function intern>,\n",
       "  'isinstance': <function isinstance>,\n",
       "  'issubclass': <function issubclass>,\n",
       "  'iter': <function iter>,\n",
       "  'len': <function len>,\n",
       "  'license': Type license() to see the full license text,\n",
       "  'list': list,\n",
       "  'locals': <function locals>,\n",
       "  'long': long,\n",
       "  'map': <function map>,\n",
       "  'max': <function max>,\n",
       "  'memoryview': memoryview,\n",
       "  'min': <function min>,\n",
       "  'next': <function next>,\n",
       "  'object': object,\n",
       "  'oct': <function oct>,\n",
       "  'open': <function open>,\n",
       "  'ord': <function ord>,\n",
       "  'pow': <function pow>,\n",
       "  'print': <function print>,\n",
       "  'property': property,\n",
       "  'range': <function range>,\n",
       "  'raw_input': <bound method IPythonKernel.raw_input of <ipykernel.ipkernel.IPythonKernel object at 0x7f91c97cb710>>,\n",
       "  'reduce': <function reduce>,\n",
       "  'reload': <function reload>,\n",
       "  'repr': <function repr>,\n",
       "  'reversed': reversed,\n",
       "  'round': <function round>,\n",
       "  'set': set,\n",
       "  'setattr': <function setattr>,\n",
       "  'slice': slice,\n",
       "  'sorted': <function sorted>,\n",
       "  'staticmethod': staticmethod,\n",
       "  'str': str,\n",
       "  'sum': <function sum>,\n",
       "  'super': super,\n",
       "  'tuple': tuple,\n",
       "  'type': type,\n",
       "  'unichr': <function unichr>,\n",
       "  'unicode': unicode,\n",
       "  'vars': <function vars>,\n",
       "  'xrange': xrange,\n",
       "  'zip': <function zip>},\n",
       " '__doc__': '\\nDescription\\n----------\\nccad modeller designed to be imported from a python prompt or program.\\nView README for a full description of ccad.\\n\\nmodel.py contains classes and functions for modelling.\\n\\nAuthor\\n------\\nView AUTHORS.\\n\\nLicense\\n-------\\nDistributed under the GNU LESSER GENERAL PUBLIC LICENSE Version 3.\\nView LICENSE for details.\\n',\n",
       " '__file__': '/home/uguen/anaconda2/lib/python2.7/site-packages/ccad/model.pyc',\n",
       " '__name__': 'ccad.model',\n",
       " '__package__': 'ccad',\n",
       " '_brepbndlib_Add': <function OCC.BRepBndLib.brepbndlib_Add>,\n",
       " '_brepgprop_LinearProperties': <function OCC.BRepGProp.brepgprop_LinearProperties>,\n",
       " '_brepgprop_SurfaceProperties': <function OCC.BRepGProp.brepgprop_SurfaceProperties>,\n",
       " '_brepgprop_VolumeProperties': <function OCC.BRepGProp.brepgprop_VolumeProperties>,\n",
       " '_breptools_Read': <function OCC.BRepTools.breptools_Read>,\n",
       " '_breptools_Write': <function OCC.BRepTools.breptools_Write>,\n",
       " '_chamfer_boolean': <function ccad.model._chamfer_boolean>,\n",
       " '_convert_import': <function ccad.model._convert_import>,\n",
       " '_fillet_boolean': <function ccad.model._fillet_boolean>,\n",
       " '_gp': <module 'OCC.gp' from '/home/uguen/anaconda2/lib/python2.7/site-packages/OCC/gp.pyc'>,\n",
       " '_math': <module 'math' from '/home/uguen/anaconda2/lib/python2.7/lib-dynload/math.so'>,\n",
       " '_mirror': <function ccad.model._mirror>,\n",
       " '_path': <module 'posixpath' from '/home/uguen/anaconda2/lib/python2.7/posixpath.pyc'>,\n",
       " '_raw_faces_merge': <function ccad.model._raw_faces_merge>,\n",
       " '_raw_faces_same_domain': <function ccad.model._raw_faces_same_domain>,\n",
       " '_raw_type': <function ccad.model._raw_type>,\n",
       " '_re': <module 're' from '/home/uguen/anaconda2/lib/python2.7/re.pyc'>,\n",
       " '_rotate': <function ccad.model._rotate>,\n",
       " '_scale': <function ccad.model._scale>,\n",
       " '_sys': <module 'sys' (built-in)>,\n",
       " '_translate': <function ccad.model._translate>,\n",
       " 'arc': <function ccad.model.arc>,\n",
       " 'arc_ellipse': <function ccad.model.arc_ellipse>,\n",
       " 'bezier': <function ccad.model.bezier>,\n",
       " 'bezier_cone': <function ccad.model.bezier_cone>,\n",
       " 'box': <function ccad.model.box>,\n",
       " 'chamfer_common': <function ccad.model.chamfer_common>,\n",
       " 'chamfer_cut': <function ccad.model.chamfer_cut>,\n",
       " 'chamfer_fuse': <function ccad.model.chamfer_fuse>,\n",
       " 'circle': <function ccad.model.circle>,\n",
       " 'common': <function ccad.model.common>,\n",
       " 'cone': <function ccad.model.cone>,\n",
       " 'cut': <function ccad.model.cut>,\n",
       " 'cylinder': <function ccad.model.cylinder>,\n",
       " 'edge': ccad.model.edge,\n",
       " 'ellipse': <function ccad.model.ellipse>,\n",
       " 'face': ccad.model.face,\n",
       " 'face_from': <function ccad.model.face_from>,\n",
       " 'fillet_common': <function ccad.model.fillet_common>,\n",
       " 'fillet_cut': <function ccad.model.fillet_cut>,\n",
       " 'fillet_fuse': <function ccad.model.fillet_fuse>,\n",
       " 'filling': <function ccad.model.filling>,\n",
       " 'from_brep': <function ccad.model.from_brep>,\n",
       " 'from_iges': <function ccad.model.from_iges>,\n",
       " 'from_step': <function ccad.model.from_step>,\n",
       " 'from_svg': <function ccad.model.from_svg>,\n",
       " 'fuse': <function ccad.model.fuse>,\n",
       " 'glue': <function ccad.model.glue>,\n",
       " 'helical_solid': <function ccad.model.helical_solid>,\n",
       " 'helix': <function ccad.model.helix>,\n",
       " 'loft': <function ccad.model.loft>,\n",
       " 'mirrored': <function ccad.model.mirrored>,\n",
       " 'mirroredx': <function ccad.model.mirroredx>,\n",
       " 'mirroredy': <function ccad.model.mirroredy>,\n",
       " 'mirroredz': <function ccad.model.mirroredz>,\n",
       " 'ngon': <function ccad.model.ngon>,\n",
       " 'offset': <function ccad.model.offset>,\n",
       " 'old_common': <function ccad.model.old_common>,\n",
       " 'old_cut': <function ccad.model.old_cut>,\n",
       " 'old_fuse': <function ccad.model.old_fuse>,\n",
       " 'pipe': <function ccad.model.pipe>,\n",
       " 'plane': <function ccad.model.plane>,\n",
       " 'plane_loft': <function ccad.model.plane_loft>,\n",
       " 'polygon': <function ccad.model.polygon>,\n",
       " 'print_function': _Feature((2, 6, 0, 'alpha', 2), (3, 0, 0, 'alpha', 0), 65536),\n",
       " 'prism': <function ccad.model.prism>,\n",
       " 'rectangle': <function ccad.model.rectangle>,\n",
       " 'reversed': <function ccad.model.reversed>,\n",
       " 'revol': <function ccad.model.revol>,\n",
       " 'rotated': <function ccad.model.rotated>,\n",
       " 'rotatedx': <function ccad.model.rotatedx>,\n",
       " 'rotatedy': <function ccad.model.rotatedy>,\n",
       " 'rotatedz': <function ccad.model.rotatedz>,\n",
       " 'scaled': <function ccad.model.scaled>,\n",
       " 'scaledx': <function ccad.model.scaledx>,\n",
       " 'scaledy': <function ccad.model.scaledy>,\n",
       " 'scaledz': <function ccad.model.scaledz>,\n",
       " 'segment': <function ccad.model.segment>,\n",
       " 'shape': ccad.model.shape,\n",
       " 'shell': ccad.model.shell,\n",
       " 'simple_glue': <function ccad.model.simple_glue>,\n",
       " 'slice': <function ccad.model.slice>,\n",
       " 'solid': ccad.model.solid,\n",
       " 'sphere': <function ccad.model.sphere>,\n",
       " 'spline': <function ccad.model.spline>,\n",
       " 'torus': <function ccad.model.torus>,\n",
       " 'translated': <function ccad.model.translated>,\n",
       " 'vertex': ccad.model.vertex,\n",
       " 'wedge': <function ccad.model.wedge>,\n",
       " 'wire': ccad.model.wire}"
      ]
     },
     "execution_count": 16,
     "metadata": {},
     "output_type": "execute_result"
    }
   ],
   "source": [
    "cm.__dict__"
   ]
  },
  {
   "cell_type": "code",
   "execution_count": null,
   "metadata": {
    "collapsed": true
   },
   "outputs": [],
   "source": []
  }
 ],
 "metadata": {
  "anaconda-cloud": {},
  "kernelspec": {
   "display_name": "Python [conda root]",
   "language": "python",
   "name": "conda-root-py"
  },
  "language_info": {
   "codemirror_mode": {
    "name": "ipython",
    "version": 2
   },
   "file_extension": ".py",
   "mimetype": "text/x-python",
   "name": "python",
   "nbconvert_exporter": "python",
   "pygments_lexer": "ipython2",
   "version": "2.7.12"
  },
  "nav_menu": {},
  "toc": {
   "navigate_menu": true,
   "number_sections": true,
   "sideBar": true,
   "threshold": 6,
   "toc_cell": false,
   "toc_section_display": "block",
   "toc_window_display": false
  }
 },
 "nbformat": 4,
 "nbformat_minor": 1
}

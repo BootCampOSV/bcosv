{
 "metadata": {
  "name": ""
 },
 "nbformat": 3,
 "nbformat_minor": 0,
 "worksheets": [
  {
   "cells": [
    {
     "cell_type": "code",
     "collapsed": false,
     "input": [
      "# cr\u00e9er un nouvel \u00e9l\u00e9ment\n",
      "new_element = (\"train arri\u00e8re\",)"
     ],
     "language": "python",
     "metadata": {},
     "outputs": []
    },
    {
     "cell_type": "code",
     "collapsed": false,
     "input": [
      "# inserer le nouvel \u00e9l\u00e9ment\n",
      "import sqlite3\n",
      "\n",
      "# connexion \u00e0 la base de donn\u00e9e\n",
      "connexion = sqlite3.connect('OpenOSV.db')\n",
      "connexion.text_factory = str # permet de communiquer en utf-8\n",
      "curseur = connexion.cursor()\n",
      "\n",
      "curseur.execute('''INSERT INTO element(nom) VALUES (?)''', new_element)\n",
      "\n",
      "# on valide tous les changements\n",
      "connexion.commit()\n",
      "\n",
      "# d\u00e9connexion de la base de donn\u00e9e\n",
      "connexion.close()"
     ],
     "language": "python",
     "metadata": {},
     "outputs": [],
     "prompt_number": 10
    },
    {
     "cell_type": "code",
     "collapsed": false,
     "input": [
      "# cr\u00e9er un nouveau lien entre \u00e9l\u00e9ments\n",
      "id_element_parent = 7\n",
      "id_element_enfant = 3\n",
      "new_link = (id_element_parent, id_element_enfant)"
     ],
     "language": "python",
     "metadata": {},
     "outputs": [],
     "prompt_number": 11
    },
    {
     "cell_type": "code",
     "collapsed": false,
     "input": [
      "# cr\u00e9er un lien entre deux \u00e9l\u00e9ments\n",
      "import sqlite3\n",
      "\n",
      "# connexion \u00e0 la base de donn\u00e9e\n",
      "connexion = sqlite3.connect('OpenOSV.db')\n",
      "connexion.text_factory = str # permet de communiquer en utf-8\n",
      "curseur = connexion.cursor()\n",
      "\n",
      "curseur.execute('''INSERT INTO heritage(id_element_parent, id_element_parent) VALUES (?,?)''', new_link)\n",
      "\n",
      "# on valide tous les changements\n",
      "connexion.commit()\n",
      "\n",
      "# d\u00e9connexion de la base de donn\u00e9e\n",
      "connexion.close()"
     ],
     "language": "python",
     "metadata": {},
     "outputs": [],
     "prompt_number": 13
    },
    {
     "cell_type": "code",
     "collapsed": false,
     "input": [],
     "language": "python",
     "metadata": {},
     "outputs": []
    }
   ],
   "metadata": {}
  }
 ]
}
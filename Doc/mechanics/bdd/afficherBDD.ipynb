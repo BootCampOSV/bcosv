{
 "metadata": {
  "name": ""
 },
 "nbformat": 3,
 "nbformat_minor": 0,
 "worksheets": [
  {
   "cells": [
    {
     "cell_type": "code",
     "collapsed": false,
     "input": [
      "import sqlite3\n",
      "\n",
      "# connexion \u00e0 la base de donn\u00e9e\n",
      "connexion = sqlite3.connect('OpenOSV.db')\n",
      "connexion.text_factory = str # permet de communiquer en utf-8\n",
      "curseur = connexion.cursor()\n",
      "\n",
      "def afficheArbre(id_element, profondeur):\n",
      "    # nom de l'\u00e9l\u00e9ment\n",
      "    resultat = curseur.execute('SELECT nom FROM element WHERE id={}'.format(id_element))\n",
      "    liste = resultat.fetchall()\n",
      "    nom = liste[0][0]\n",
      "    print(3*profondeur*\" \"),\n",
      "    print(\"+ [{}] {}\".format(id_element, nom))\n",
      "    \n",
      "    # propri\u00e9t\u00e9s\n",
      "    resultat = curseur.execute('SELECT propriete.nom, propriete.valeur FROM propriete_element, propriete WHERE propriete_element.id_element={} AND propriete_element.id_propriete = propriete.id'.format(id_element))\n",
      "    liste = resultat.fetchall()\n",
      "    for ligne in liste:\n",
      "        nom = ligne[0]\n",
      "        valeur = ligne[1]\n",
      "        print(3*(1+profondeur)*\" \"),\n",
      "        print(\"- \"),\n",
      "        print(\"{} = {}\".format(nom, valeur))\n",
      "\n",
      "    # recherche sous-ensembles\n",
      "    resultat = curseur.execute('SELECT id_element_enfant FROM heritage WHERE id_element_parent={} ORDER BY id_element_enfant ASC'.format(id_element))\n",
      "    liste = resultat.fetchall()\n",
      "    for ligne in liste:\n",
      "        id_element_enfant = ligne[0]\n",
      "        afficheArbre(id_element_enfant, profondeur+1)\n",
      "     \n",
      "        \n",
      "print(\"\\narbre de l'\u00e9l\u00e9ment 1\")\n",
      "afficheArbre(1,0)\n",
      "\n",
      "# d\u00e9connexion de la base de donn\u00e9e\n",
      "connexion.close()"
     ],
     "language": "python",
     "metadata": {},
     "outputs": [
      {
       "output_type": "stream",
       "stream": "stdout",
       "text": [
        "\n",
        "arbre de l'\u00e9l\u00e9ment 1\n",
        " + [1] chassis\n",
        "    + [2] train avant\n",
        "       -  couleur = bleu\n",
        "       + [3] roue gauche\n",
        "          + [4] jante\n",
        "             -  materiau = acier\n",
        "          + [5] pneu\n",
        "       + [6] roue droite\n",
        "          + [4] jante\n",
        "             -  materiau = acier\n",
        "          + [5] pneu\n",
        "    + [7] train arriere\n",
        "       + [3] roue gauche\n",
        "          + [4] jante\n",
        "             -  materiau = acier\n",
        "          + [5] pneu\n"
       ]
      }
     ],
     "prompt_number": 37
    },
    {
     "cell_type": "code",
     "collapsed": false,
     "input": [
      "import sqlite3\n",
      "\n",
      "# connexion \u00e0 la base de donn\u00e9e\n",
      "connexion = sqlite3.connect('OpenOSV.db')\n",
      "connexion.text_factory = str # permet de communiquer en utf-8\n",
      "curseur = connexion.cursor()\n",
      "\n",
      "print(\"\\nliste des \u00e9l\u00e9ments\")\n",
      "resultat = curseur.execute('SELECT * FROM element ORDER BY id ASC')\n",
      "liste = resultat.fetchall()\n",
      "for ligne in liste:\n",
      "    element_id = ligne[0]\n",
      "    element_nom = ligne[1]\n",
      "    print(\"{} : {}\".format(element_id, element_nom))\n",
      "\n",
      "# d\u00e9connexion de la base de donn\u00e9e\n",
      "connexion.close()"
     ],
     "language": "python",
     "metadata": {},
     "outputs": [
      {
       "output_type": "stream",
       "stream": "stdout",
       "text": [
        "\n",
        "liste des \u00e9l\u00e9ments\n",
        "1 : chassis\n",
        "2 : train avant\n",
        "3 : roue gauche\n",
        "4 : jante\n",
        "5 : pneu\n",
        "6 : roue droite\n",
        "7 : train arriere\n",
        "8 : train arri\u00e8re\n",
        "9 : train arri\u00e8re\n"
       ]
      }
     ],
     "prompt_number": 34
    },
    {
     "cell_type": "code",
     "collapsed": false,
     "input": [
      "import sqlite3\n",
      "\n",
      "# connexion \u00e0 la base de donn\u00e9e\n",
      "connexion = sqlite3.connect('OpenOSV.db')\n",
      "connexion.text_factory = str # permet de communiquer en utf-8\n",
      "curseur = connexion.cursor()\n",
      "\n",
      "print(\"\\nliste des relations entre les \u00e9l\u00e9ments\")\n",
      "resultat = curseur.execute('SELECT * FROM heritage ORDER BY id ASC')\n",
      "liste = resultat.fetchall()\n",
      "for ligne in liste:\n",
      "    heritage_id = ligne[0]\n",
      "    heritage_id_element_parent = ligne[1]\n",
      "    heritage_id_element_enfant = ligne[2]\n",
      "    print(\"{} : {} -> {}\".format(heritage_id, heritage_id_element_parent, heritage_id_element_enfant))\n",
      "\n",
      "# d\u00e9connexion de la base de donn\u00e9e\n",
      "connexion.close()"
     ],
     "language": "python",
     "metadata": {},
     "outputs": [
      {
       "output_type": "stream",
       "stream": "stdout",
       "text": [
        "\n",
        "liste des relations entre les \u00e9l\u00e9ments\n",
        "1 : 1 -> 2\n",
        "2 : 2 -> 3\n",
        "4 : 3 -> 5\n",
        "5 : 3 -> 4\n",
        "6 : 2 -> 6\n",
        "7 : 6 -> 4\n",
        "8 : 6 -> 5\n",
        "9 : 1 -> 7\n",
        "10 : 7 -> 3\n"
       ]
      }
     ],
     "prompt_number": 36
    },
    {
     "cell_type": "code",
     "collapsed": false,
     "input": [
      "import sqlite3\n",
      "\n",
      "# connexion \u00e0 la base de donn\u00e9e\n",
      "connexion = sqlite3.connect('OpenOSV.db')\n",
      "connexion.text_factory = str # permet de communiquer en utf-8\n",
      "curseur = connexion.cursor()\n",
      "\n",
      "print(\"\\nliste des propri\u00e9t\u00e9s\")\n",
      "resultat = curseur.execute('SELECT * FROM propriete ORDER BY id ASC')\n",
      "liste = resultat.fetchall()\n",
      "for ligne in liste:\n",
      "    propriete_id = ligne[0]\n",
      "    propriete_nom = ligne[1]\n",
      "    propriete_valeur = ligne[2]\n",
      "    print(\"{} : {} = {}\".format(propriete_id, propriete_nom, propriete_valeur))\n",
      "\n",
      "# d\u00e9connexion de la base de donn\u00e9e\n",
      "connexion.close()"
     ],
     "language": "python",
     "metadata": {},
     "outputs": [
      {
       "output_type": "stream",
       "stream": "stdout",
       "text": [
        "\n",
        "liste des propri\u00e9t\u00e9s\n",
        "1 : couleur = bleu\n",
        "2 : materiau = acier\n",
        "3 : materiau = aluminium\n"
       ]
      }
     ],
     "prompt_number": 29
    },
    {
     "cell_type": "code",
     "collapsed": false,
     "input": [
      "import sqlite3\n",
      "\n",
      "# connexion \u00e0 la base de donn\u00e9e\n",
      "connexion = sqlite3.connect('OpenOSV.db')\n",
      "connexion.text_factory = str # permet de communiquer en utf-8\n",
      "curseur = connexion.cursor()\n",
      "\n",
      "print(\"\\nliste des relations entre les \u00e9l\u00e9ments et leurs propri\u00e9t\u00e9s\")\n",
      "resultat = curseur.execute('SELECT * FROM propriete_element ORDER BY id ASC')\n",
      "liste = resultat.fetchall()\n",
      "for ligne in liste:\n",
      "    propriete_element_id = ligne[0]\n",
      "    propriete_element_id_element = ligne[1]\n",
      "    propriete_element_id_propriete = ligne[2]\n",
      "    print(\"{} : {} -> {}\".format(propriete_element_id, propriete_element_id_element, propriete_element_id_propriete))\n",
      "\n",
      "# d\u00e9connexion de la base de donn\u00e9e\n",
      "connexion.close()"
     ],
     "language": "python",
     "metadata": {},
     "outputs": [
      {
       "output_type": "stream",
       "stream": "stdout",
       "text": [
        "\n",
        "liste des relations entre les \u00e9l\u00e9ments et leurs propri\u00e9t\u00e9s\n",
        "1 : 2 -> 1\n",
        "2 : 4 -> 2\n"
       ]
      }
     ],
     "prompt_number": 30
    },
    {
     "cell_type": "code",
     "collapsed": false,
     "input": [],
     "language": "python",
     "metadata": {},
     "outputs": [],
     "prompt_number": 30
    },
    {
     "cell_type": "code",
     "collapsed": false,
     "input": [],
     "language": "python",
     "metadata": {},
     "outputs": []
    }
   ],
   "metadata": {}
  }
 ]
}